{
  "nbformat": 4,
  "nbformat_minor": 0,
  "metadata": {
    "colab": {
      "name": "VideoV2.ipynb",
      "provenance": [],
      "collapsed_sections": [],
      "machine_shape": "hm",
      "authorship_tag": "ABX9TyOcAr47tplEP3B5xkaFO9N1",
      "include_colab_link": true
    },
    "kernelspec": {
      "name": "python3",
      "display_name": "Python 3"
    }
  },
  "cells": [
    {
      "cell_type": "markdown",
      "metadata": {
        "id": "view-in-github",
        "colab_type": "text"
      },
      "source": [
        "<a href=\"https://colab.research.google.com/github/manashpratim/Bosch-Summer-Internship/blob/master/VideoV2.ipynb\" target=\"_parent\"><img src=\"https://colab.research.google.com/assets/colab-badge.svg\" alt=\"Open In Colab\"/></a>"
      ]
    },
    {
      "cell_type": "code",
      "metadata": {
        "id": "JtAJjRhhPM0I",
        "colab_type": "code",
        "colab": {}
      },
      "source": [
        "from google.colab import drive\n",
        "drive.mount('/content/drive')"
      ],
      "execution_count": null,
      "outputs": []
    },
    {
      "cell_type": "code",
      "metadata": {
        "id": "x4LPp2sBS7nI",
        "colab_type": "code",
        "colab": {}
      },
      "source": [
        "!unzip -q '/content/drive/My Drive/mosi_data/mosi.zip'"
      ],
      "execution_count": null,
      "outputs": []
    },
    {
      "cell_type": "code",
      "metadata": {
        "id": "jj-sk1clSw_b",
        "colab_type": "code",
        "colab": {}
      },
      "source": [
        "def get_file_names(mypath,savefile):\n",
        "  from os import listdir\n",
        "  from os.path import isfile, join\n",
        "  onlyfiles = [f[:f.find('.')] for f in listdir(mypath) if isfile(join(mypath, f))]\n",
        "  with open(savefile, 'w') as f:\n",
        "    for item in onlyfiles:\n",
        "        f.write(item)\n",
        "        f.write('\\n')\n",
        "  return onlyfiles"
      ],
      "execution_count": null,
      "outputs": []
    },
    {
      "cell_type": "code",
      "metadata": {
        "id": "stZY-cJrSz7Q",
        "colab_type": "code",
        "colab": {}
      },
      "source": [
        "mypath = '/content/Raw/Transcript/Segmented'\n",
        "files = get_file_names(mypath,'textfile.txt')"
      ],
      "execution_count": null,
      "outputs": []
    },
    {
      "cell_type": "code",
      "metadata": {
        "id": "jCXN4IvpSVKI",
        "colab_type": "code",
        "colab": {}
      },
      "source": [
        "import pickle\n",
        "with open('/content/drive/My Drive/mosi_data/video_frames_joined.pickle', 'rb') as handle:\n",
        "    nd = pickle.load(handle)\n",
        "\n",
        "with open('/content/drive/My Drive/mosi_data/labels_joined.pickle', 'rb') as handle:\n",
        "    labels = pickle.load(handle)"
      ],
      "execution_count": null,
      "outputs": []
    },
    {
      "cell_type": "code",
      "metadata": {
        "id": "m2-JmgM-SsXO",
        "colab_type": "code",
        "colab": {}
      },
      "source": [
        "# This block pads the video features so that each segments have same length. I use zero padding\n",
        "video_data = []\n",
        "maximum = float('-inf')\n",
        "\n",
        "for key in files:\n",
        "  for l in nd[key]:\n",
        "        video_data.append(l)\n",
        "import tensorflow as tf\n",
        "video_data=tf.keras.preprocessing.sequence.pad_sequences(video_data, maxlen=40, dtype='float32', padding='post', truncating='post',value=0.0)"
      ],
      "execution_count": null,
      "outputs": []
    },
    {
      "cell_type": "code",
      "metadata": {
        "id": "RoMaIqt4Ulv8",
        "colab_type": "code",
        "colab": {}
      },
      "source": [
        "# Join all the labels into a numpy array\n",
        "import numpy as np\n",
        "y = []\n",
        "for key in files:\n",
        "    y+=labels[key]\n",
        "y = np.array(y)\n",
        "\n",
        "#For regression, do not execute any of the lines below\n",
        "\n",
        "y[y>0]=1        #Convert labels to binary\n",
        "y[y<0]=0\n",
        "\n",
        "y=y.astype(int)   \n",
        "\n",
        "#ref = {-3:0,-2:1,-1:2,0:3,1:4,2:5,3:6}         #Uncomment the following three lines for 7 class classification\n",
        "#for i,num in enumerate(y):\n",
        "#  y[i] = ref[num]"
      ],
      "execution_count": null,
      "outputs": []
    },
    {
      "cell_type": "code",
      "metadata": {
        "id": "eMrBsszVU2bw",
        "colab_type": "code",
        "colab": {}
      },
      "source": [
        "def split_data(data,labels,split_size=0.8):\n",
        "  import numpy as np  \n",
        "  train_length =int(len(labels)*split_size)\n",
        "  test_length =int(len(labels)-train_length)\n",
        "  idx = np.random.permutation(labels.shape[0])\n",
        "  data = data[idx]\n",
        "  labels = labels[idx]\n",
        "  data_train = data[:train_length]\n",
        "  data_val = data[train_length:]\n",
        "  labels_train = labels[:train_length]\n",
        "  labels_val = labels[train_length:]\n",
        "  \n",
        "  return data_train,data_val,labels_train,labels_val"
      ],
      "execution_count": null,
      "outputs": []
    },
    {
      "cell_type": "code",
      "metadata": {
        "id": "4a6PujOBU4pQ",
        "colab_type": "code",
        "colab": {}
      },
      "source": [
        "video_train,video_val,labels_train,labels_val = split_data(video_data,y,split_size=0.8)\n",
        "del video_data"
      ],
      "execution_count": null,
      "outputs": []
    },
    {
      "cell_type": "code",
      "metadata": {
        "id": "u-LB7LU7UpOw",
        "colab_type": "code",
        "colab": {}
      },
      "source": [
        "# video model\n",
        "import tensorflow as tf\n",
        "from tensorflow.keras.layers import Input, Dense\n",
        "from tensorflow.keras.models import Model\n",
        "\n",
        "\n",
        "inp = Input(shape=(40, 64, 64, 3))\n",
        "x   = tf.keras.layers.Conv3D(filters=32, kernel_size=(3, 3, 3), strides=(1,2,2),activation=\"relu\", padding=\"same\")(inp)\n",
        "x   = tf.keras.layers.Conv3D(filters=64, kernel_size=(3, 3, 3), strides=(1,2,2),activation=\"relu\", padding=\"same\")(x)\n",
        "x   = tf.keras.layers.BatchNormalization()(x)\n",
        "x   = tf.keras.layers.Dropout(0.4)(x)\n",
        "x   = tf.keras.layers.Reshape((40, 16*16*64))(x)\n",
        "\n",
        "\n",
        "x = tf.keras.layers.Bidirectional(tf.compat.v1.keras.layers.CuDNNLSTM(128,return_sequences=True))(x)\n",
        "x = tf.keras.layers.Bidirectional(tf.compat.v1.keras.layers.CuDNNLSTM(128,return_sequences=True))(x)\n",
        "x   = tf.keras.layers.BatchNormalization()(x)\n",
        "x   = tf.keras.layers.Dropout(0.4)(x)\n",
        "x  = tf.keras.layers.GlobalAveragePooling1D()(x)\n",
        "x   = tf.keras.layers.BatchNormalization()(x)\n",
        "x   = tf.keras.layers.Dropout(0.4)(x)\n",
        "x   = tf.keras.layers.Dense(64, activation='relu')(x)\n",
        "x   = tf.keras.layers.Dropout(0.5)(x)\n",
        "out   = tf.keras.layers.Dense(1, activation='sigmoid')(x)\n",
        "#out   = tf.keras.layers.Dense(7, activation='softmax')(x)\n",
        "#out   = tf.keras.layers.Dense(1)(x)\n",
        "\n",
        "model = Model(inp,out)"
      ],
      "execution_count": null,
      "outputs": []
    },
    {
      "cell_type": "code",
      "metadata": {
        "id": "M7cFBh_Ug9Iu",
        "colab_type": "code",
        "colab": {}
      },
      "source": [
        "reduce =tf. keras.callbacks.ReduceLROnPlateau(monitor='val_loss', factor=0.1, patience=10, mode='auto')\n",
        "#early = tf.keras.callbacks.EarlyStopping(monitor='val_loss', min_delta=1e-4, patience=10, mode='auto')\n",
        "\n",
        "#Uncomment one of the next three lines at a time               \n",
        "model.compile(loss='binary_crossentropy',optimizer='rmsprop',metrics=['accuracy'])         #Binary classification\n",
        "#model.compile(loss='sparse_categorical_crossentropy',optimizer='rmsprop',metrics=['accuracy'])            #7 class classifiaction\n",
        "#model.compile(loss=\"mean_absolute_error\",optimizer='rmsprop')             #Regression\n",
        "history=model.fit(video_train,labels_train, batch_size=32, epochs=80, shuffle=True,validation_data=(video_val,labels_val),callbacks=[reduce],use_multiprocessing=True)"
      ],
      "execution_count": null,
      "outputs": []
    }
  ]
}