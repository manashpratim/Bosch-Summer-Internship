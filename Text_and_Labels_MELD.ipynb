{
  "nbformat": 4,
  "nbformat_minor": 0,
  "metadata": {
    "colab": {
      "name": "Text_and_Labels_MELD.ipynb",
      "provenance": [],
      "collapsed_sections": [],
      "authorship_tag": "ABX9TyNbUCQs9MzmRJ0xjTUSGKMW",
      "include_colab_link": true
    },
    "kernelspec": {
      "name": "python3",
      "display_name": "Python 3"
    }
  },
  "cells": [
    {
      "cell_type": "markdown",
      "metadata": {
        "id": "view-in-github",
        "colab_type": "text"
      },
      "source": [
        "<a href=\"https://colab.research.google.com/github/manashpratim/Bosch-Summer-Internship/blob/master/Text_and_Labels_MELD.ipynb\" target=\"_parent\"><img src=\"https://colab.research.google.com/assets/colab-badge.svg\" alt=\"Open In Colab\"/></a>"
      ]
    },
    {
      "cell_type": "markdown",
      "metadata": {
        "id": "ZMmNnoQcmXKR",
        "colab_type": "text"
      },
      "source": [
        "## This notebook is for preprocessing text and labels of MELD dataset"
      ]
    },
    {
      "cell_type": "code",
      "metadata": {
        "id": "V6UUEK7oJ_7r",
        "colab_type": "code",
        "colab": {}
      },
      "source": [
        "# Mount Google Drive\n",
        "from google.colab import drive\n",
        "drive.mount('/content/drive')"
      ],
      "execution_count": null,
      "outputs": []
    },
    {
      "cell_type": "code",
      "metadata": {
        "id": "S-wgfkBPKgJT",
        "colab_type": "code",
        "colab": {}
      },
      "source": [
        "!unzip -q '/content/drive/My Drive/train_meld.zip'"
      ],
      "execution_count": null,
      "outputs": []
    },
    {
      "cell_type": "code",
      "metadata": {
        "id": "1GL3ca1DTR_0",
        "colab_type": "code",
        "colab": {}
      },
      "source": [
        "import pandas as pd\n",
        "import numpy as np\n",
        "from tqdm import tqdm"
      ],
      "execution_count": null,
      "outputs": []
    },
    {
      "cell_type": "code",
      "metadata": {
        "id": "MXOr5CTvHz9s",
        "colab_type": "code",
        "colab": {}
      },
      "source": [
        "df=pd.read_csv('/content/train_meld/train_sent_emo.csv')"
      ],
      "execution_count": null,
      "outputs": []
    },
    {
      "cell_type": "code",
      "metadata": {
        "id": "k7n2VLqVR0dY",
        "colab_type": "code",
        "colab": {}
      },
      "source": [
        "import nltk\n",
        "from nltk import word_tokenize\n",
        "nltk.download('stopwords')\n",
        "from nltk.corpus import stopwords\n",
        "nltk.download('punkt')\n",
        "stop_words = set(stopwords.words('english'))\n",
        "from textblob import Word\n",
        "nltk.download('wordnet')\n",
        "\n",
        "def mystopwords(text):\n",
        "    return ' '.join([w for w in word_tokenize(text) if not w in stop_words])\n",
        "\n",
        "def lemmatize(text):\n",
        "    return ' '.join([Word(word).lemmatize() for word in text.split()])\n",
        "\n",
        "import re\n",
        "def preprocess(text):\n",
        "    # Remove link,user and special characters\n",
        "    text = re.sub(\"@\\S+|https?:\\S+|http?:\\S|[^A-Za-z0-9]+\", ' ', str(text).lower()).strip()\n",
        "    tokens = []\n",
        "    for token in text.split():\n",
        "          tokens.append(token)\n",
        "    return \" \".join(tokens)"
      ],
      "execution_count": null,
      "outputs": []
    },
    {
      "cell_type": "code",
      "metadata": {
        "id": "mJ7Uu2cvHwOc",
        "colab_type": "code",
        "colab": {}
      },
      "source": [
        "df.head(5)"
      ],
      "execution_count": null,
      "outputs": []
    },
    {
      "cell_type": "code",
      "metadata": {
        "id": "VVI_9KAKStF9",
        "colab_type": "code",
        "colab": {}
      },
      "source": [
        "df['Emotion'].value_counts()"
      ],
      "execution_count": null,
      "outputs": []
    },
    {
      "cell_type": "code",
      "metadata": {
        "id": "y2dpdzXkW83w",
        "colab_type": "code",
        "colab": {}
      },
      "source": [
        "df['Sentiment'].value_counts()"
      ],
      "execution_count": null,
      "outputs": []
    },
    {
      "cell_type": "code",
      "metadata": {
        "id": "Lg9n_Ja0Hr91",
        "colab_type": "code",
        "colab": {}
      },
      "source": [
        "text = {}\n",
        "labels_sentiment = {}\n",
        "labels_emotion = {}\n",
        "\n",
        "sent = {'neutral':0,'positive':1,'negative':2}\n",
        "emo = {'neutral':0,'joy':1,'surprise':2,'anger':3,'sadness':4,'fear':5,'disgust':6}\n",
        "\n",
        "for i in range(len(df)):\n",
        "\n",
        "    name = 'dia'+ str(df['Dialogue_ID'][i]) + '_utt' + str(df['Utterance_ID'][i])\n",
        "    text[name] = preprocess(df['Utterance'][i])\n",
        "    labels_sentiment[name] = sent[df['Sentiment'][i]]\n",
        "    labels_emotion[name] = emo[df['Emotion'][i]]\n"
      ],
      "execution_count": null,
      "outputs": []
    },
    {
      "cell_type": "code",
      "metadata": {
        "id": "IXW52h_nlAZ3",
        "colab_type": "code",
        "colab": {}
      },
      "source": [
        "import pickle\n",
        "with open('/content/drive/My Drive/meld_data/text_train.pickle', 'wb') as handle:\n",
        "        pickle.dump(text, handle, protocol=pickle.HIGHEST_PROTOCOL)\n",
        "with open('/content/drive/My Drive/meld_data/labels_sentiment_train.pickle', 'wb') as handle:\n",
        "        pickle.dump(labels_sentiment, handle, protocol=pickle.HIGHEST_PROTOCOL)\n",
        "with open('/content/drive/My Drive/meld_data/labels_emotion_train.pickle', 'wb') as handle:\n",
        "        pickle.dump(labels_emotion, handle, protocol=pickle.HIGHEST_PROTOCOL)"
      ],
      "execution_count": null,
      "outputs": []
    }
  ]
}