{
  "nbformat": 4,
  "nbformat_minor": 0,
  "metadata": {
    "colab": {
      "name": "Audio_Features_MELD.ipynb",
      "provenance": [],
      "collapsed_sections": [],
      "authorship_tag": "ABX9TyPrtEq9QdyeYUSh0TRl9iMN",
      "include_colab_link": true
    },
    "kernelspec": {
      "name": "python3",
      "display_name": "Python 3"
    }
  },
  "cells": [
    {
      "cell_type": "markdown",
      "metadata": {
        "id": "view-in-github",
        "colab_type": "text"
      },
      "source": [
        "<a href=\"https://colab.research.google.com/github/manashpratim/Bosch-Summer-Internship/blob/master/Audio_Features_MELD.ipynb\" target=\"_parent\"><img src=\"https://colab.research.google.com/assets/colab-badge.svg\" alt=\"Open In Colab\"/></a>"
      ]
    },
    {
      "cell_type": "markdown",
      "metadata": {
        "id": "7GJYrckWhT4r",
        "colab_type": "text"
      },
      "source": [
        "## This notebook is for extracting audio features of MELD dataset"
      ]
    },
    {
      "cell_type": "code",
      "metadata": {
        "id": "nKkd7BaTbA2s",
        "colab_type": "code",
        "colab": {}
      },
      "source": [
        "from google.colab import drive\n",
        "drive.mount('/content/drive')"
      ],
      "execution_count": null,
      "outputs": []
    },
    {
      "cell_type": "code",
      "metadata": {
        "id": "vyK0EkwGbOCl",
        "colab_type": "code",
        "colab": {}
      },
      "source": [
        "#!unzip -q '/content/drive/My Drive/train_meld.zip'\n",
        "!unzip -q '/content/drive/My Drive/dev_meld.zip'\n",
        "#!unzip -q '/content/drive/My Drive/test_meld.zip'"
      ],
      "execution_count": null,
      "outputs": []
    },
    {
      "cell_type": "code",
      "metadata": {
        "id": "tfWJZ0cpbSZp",
        "colab_type": "code",
        "colab": {}
      },
      "source": [
        "import pandas as pd\n",
        "import numpy as np\n",
        "from tqdm import tqdm"
      ],
      "execution_count": null,
      "outputs": []
    },
    {
      "cell_type": "code",
      "metadata": {
        "id": "xLsz-3wnbTHx",
        "colab_type": "code",
        "colab": {}
      },
      "source": [
        "#df=pd.read_csv('/content/train_meld/train_sent_emo.csv')\n",
        "df=pd.read_csv('/content/dev_meld/dev_sent_emo.csv')\n",
        "#df=pd.read_csv('/content/test_meld/test_sent_emo.csv')"
      ],
      "execution_count": null,
      "outputs": []
    },
    {
      "cell_type": "code",
      "metadata": {
        "id": "bWaneM-UbTQF",
        "colab_type": "code",
        "colab": {}
      },
      "source": [
        "df.head(5)"
      ],
      "execution_count": null,
      "outputs": []
    },
    {
      "cell_type": "code",
      "metadata": {
        "id": "Ucd-Tm70bTaX",
        "colab_type": "code",
        "colab": {}
      },
      "source": [
        "def get_audio_features(mypath,file):\n",
        "    import librosa\n",
        "    import numpy as np\n",
        "    try:\n",
        "      audiofile = mypath + '/' + file + '.wav'\n",
        "      x, sr = librosa.load(audiofile, sr  = 16000, res_type='kaiser_fast')        #Sampling frequency 16KHz\n",
        "      chroma_stft = librosa.feature.chroma_stft(y=x, sr=sr).T\n",
        "      rmse = librosa.feature.rmse(y=x).T\n",
        "      spec_cent = librosa.feature.spectral_centroid(y=x, sr=sr).T\n",
        "      spec_bw = librosa.feature.spectral_bandwidth(y=x, sr=sr).T\n",
        "      rolloff = librosa.feature.spectral_rolloff(y=x, sr=sr).T\n",
        "      zcr = librosa.feature.zero_crossing_rate(x).T\n",
        "      mfcc = librosa.feature.mfcc(y=x, sr=sr,n_mfcc=40).T                         #40 MFCC features\n",
        "      myfile = np.hstack((chroma_stft,rmse,spec_cent,spec_bw,rolloff,zcr,mfcc))\n",
        "      return myfile\n",
        "    except:\n",
        "        return []"
      ],
      "execution_count": null,
      "outputs": []
    },
    {
      "cell_type": "code",
      "metadata": {
        "id": "fk7BXYLAbTYb",
        "colab_type": "code",
        "colab": {}
      },
      "source": [
        "path = '/content/dev_meld/audio'\n",
        "audio = {}\n",
        "outer = tqdm(total=len(df), desc='Extracting Audio Features', position=0)\n",
        "for i in range(len(df)):\n",
        "    outer.update(1)\n",
        "    name = 'dia'+ str(df['Dialogue_ID'][i]) + '_utt' + str(df['Utterance_ID'][i])\n",
        "    aud = get_audio_features(path,name)\n",
        "    if len(aud)>0:\n",
        "      audio[name] = aud"
      ],
      "execution_count": null,
      "outputs": []
    },
    {
      "cell_type": "code",
      "metadata": {
        "id": "GMbTzPnZbTWZ",
        "colab_type": "code",
        "colab": {}
      },
      "source": [
        "import pickle\n",
        "with open('/content/drive/My Drive/meld_data/audio_features_dev.pickle', 'wb') as handle:\n",
        "        pickle.dump(audio, handle, protocol=pickle.HIGHEST_PROTOCOL)"
      ],
      "execution_count": null,
      "outputs": []
    }
  ]
}